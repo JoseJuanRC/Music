{
  "nbformat": 4,
  "nbformat_minor": 0,
  "metadata": {
    "colab": {
      "name": "Music.ipynb",
      "private_outputs": true,
      "provenance": [],
      "collapsed_sections": []
    },
    "kernelspec": {
      "name": "python3",
      "display_name": "Python 3"
    },
    "language_info": {
      "name": "python"
    }
  },
  "cells": [
    {
      "cell_type": "code",
      "metadata": {
        "id": "CmFuIYx0PYBV"
      },
      "source": [
        "!pip install pretty_midi"
      ],
      "execution_count": null,
      "outputs": []
    },
    {
      "cell_type": "code",
      "metadata": {
        "id": "Nirh_4mlJDwS"
      },
      "source": [
        "import pretty_midi\n",
        "\n",
        "# Introducimos el fichero midi\n",
        "midi_data = pretty_midi.PrettyMIDI('song.mid')\n",
        "\n",
        "instr = 0\n",
        "\n",
        "data = []\n",
        "\n",
        "# Por cada instrumento vamos añadiendo las notas y tiempos\n",
        "for instrument in midi_data.instruments:\n",
        "    instr = instrument.program\n",
        "    for note in instrument.notes:\n",
        "        data.append([note.pitch, note.start, note.end])"
      ],
      "execution_count": null,
      "outputs": []
    },
    {
      "cell_type": "code",
      "metadata": {
        "id": "iQK60BFfbF10"
      },
      "source": [
        "# Ordenamos según el tiempo de inicio de una nota\n",
        "\n",
        "data.sort(key=lambda x:x[1])"
      ],
      "execution_count": null,
      "outputs": []
    },
    {
      "cell_type": "code",
      "metadata": {
        "id": "hK790pqRblTD"
      },
      "source": [
        "# Mostramos como se vería desde processing\n",
        "\n",
        "pitch = [i[0] for i in data]\n",
        "res = str(pitch[0])\n",
        "for i in range(1, len(pitch)):\n",
        "  res += \", \" + str(pitch[i])\n",
        "print(\"int[] pitch = {\" +res + \"};\");\n",
        "\n",
        "start = [i[1] for i in data]\n",
        "res = str(start[0])\n",
        "for i in range(1, len(start)):\n",
        "  res += \", \" + str(start[i])\n",
        "print(\"float[] start = {\" +res + \"};\");\n",
        "\n",
        "end = [i[2] for i in data]\n",
        "res = str(end[0])\n",
        "for i in range(1, len(end)):\n",
        "  res += \", \" + str(end[i])\n",
        "print(\"float[] end = {\" +res + \"};\");\n",
        "\n",
        "print(\"int instrument = \" + str(instr) + \";\");"
      ],
      "execution_count": null,
      "outputs": []
    },
    {
      "cell_type": "code",
      "metadata": {
        "id": "c0dWyTIA51tF"
      },
      "source": [
        "# Guardamos en un fichero\n",
        "\n",
        "outF = open(\"song.csv\", \"w\")\n",
        "\n",
        "line = (str(instr)) + \",\" + str(len(pitch)) + \"\\n\";\n",
        "outF.write(line)\n",
        "\n",
        "for i in range(0, len(pitch)):\n",
        "  line = str(pitch[i]) + \",\" + str(start[i]) + \",\" + str(end[i]) + \"\\n\"\n",
        "  outF.write(line)\n",
        "\n",
        "outF.close()"
      ],
      "execution_count": null,
      "outputs": []
    }
  ]
}